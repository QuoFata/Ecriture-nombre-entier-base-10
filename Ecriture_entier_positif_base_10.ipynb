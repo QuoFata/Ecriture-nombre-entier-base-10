{
  "nbformat": 4,
  "nbformat_minor": 0,
  "metadata": {
    "colab": {
      "name": "Ecriture entier positif base 10.ipynb",
      "provenance": []
    },
    "kernelspec": {
      "name": "python3",
      "display_name": "Python 3"
    }
  },
  "cells": [
    {
      "cell_type": "code",
      "metadata": {
        "id": "U5JZBpUY1B2n",
        "colab_type": "code",
        "colab": {
          "base_uri": "https://localhost:8080/",
          "height": 68
        },
        "outputId": "d52cb875-acb4-4136-af89-1d39e928414f"
      },
      "source": [
        "nombre = input(\"Entrez un nombre entier positif :\\n\")\n",
        "k = len(nombre) - 1\n",
        "resultat=\"\"\n",
        "for chiffre in nombre:\n",
        "  resultat = resultat + chiffre +\" × 10e\" + str(k)\n",
        "  if k != 0:\n",
        "    resultat = resultat + \" + \"\n",
        "  k = k - 1\n",
        "print(resultat)"
      ],
      "execution_count": 1,
    }
  ]
}
